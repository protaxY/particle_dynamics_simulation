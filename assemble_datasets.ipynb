{
 "cells": [
  {
   "cell_type": "code",
   "execution_count": 1,
   "metadata": {},
   "outputs": [],
   "source": [
    "import os\n",
    "import shutil"
   ]
  },
  {
   "cell_type": "code",
   "execution_count": 16,
   "metadata": {},
   "outputs": [],
   "source": [
    "# source_dirs = ['ps0/dataset', \n",
    "#                'ps1/dataset', \n",
    "#                'ps2/dataset', \n",
    "#                'ps3/dataset', \n",
    "#                'ps4/dataset', \n",
    "#                'ps5/dataset', \n",
    "#                'ps6/dataset', \n",
    "#                'ps7/dataset']\n",
    "\n",
    "source_dirs = os.listdir('dataset')\n",
    "for i in range(len(source_dirs)):\n",
    "    source_dirs[i] = 'dataset/'+source_dirs[i]\n",
    "target_dir = 'fin'"
   ]
  },
  {
   "cell_type": "code",
   "execution_count": 17,
   "metadata": {},
   "outputs": [
    {
     "data": {
      "text/plain": [
       "['dataset/9',\n",
       " 'dataset/14',\n",
       " 'dataset/3',\n",
       " 'dataset/7',\n",
       " 'dataset/13',\n",
       " 'dataset/11',\n",
       " 'dataset/2',\n",
       " 'dataset/6',\n",
       " 'dataset/10',\n",
       " 'dataset/8',\n",
       " 'dataset/1',\n",
       " 'dataset/5',\n",
       " 'dataset/4',\n",
       " 'dataset/12']"
      ]
     },
     "execution_count": 17,
     "metadata": {},
     "output_type": "execute_result"
    }
   ],
   "source": [
    "source_dirs"
   ]
  },
  {
   "cell_type": "code",
   "execution_count": 15,
   "metadata": {},
   "outputs": [],
   "source": [
    "counter = 0\n",
    "for source_dir in source_dirs:\n",
    "    file_names = os.listdir(source_dir)\n",
    "    for file_name in file_names:\n",
    "        shutil.move(os.path.join(source_dir, file_name), os.path.join(target_dir, str(counter)+'.json'))\n",
    "        counter += 1"
   ]
  }
 ],
 "metadata": {
  "kernelspec": {
   "display_name": "Python 3",
   "language": "python",
   "name": "python3"
  },
  "language_info": {
   "codemirror_mode": {
    "name": "ipython",
    "version": 3
   },
   "file_extension": ".py",
   "mimetype": "text/x-python",
   "name": "python",
   "nbconvert_exporter": "python",
   "pygments_lexer": "ipython3",
   "version": "3.10.6"
  },
  "orig_nbformat": 4
 },
 "nbformat": 4,
 "nbformat_minor": 2
}
